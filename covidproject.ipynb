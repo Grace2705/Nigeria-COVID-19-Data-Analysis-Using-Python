{
 "metadata": {
  "language_info": {
   "codemirror_mode": {
    "name": "ipython",
    "version": 3
   },
   "file_extension": ".py",
   "mimetype": "text/x-python",
   "name": "python",
   "nbconvert_exporter": "python",
   "pygments_lexer": "ipython3",
   "version": "3.7.6"
  },
  "orig_nbformat": 2,
  "kernelspec": {
   "name": "python376jvsc74a57bd08fac594bfae6525c0c41b4041d2d72effa188cc8ead05f81b1fab2bb098927fb",
   "display_name": "Python 3.7.6 64-bit ('base': conda)"
  }
 },
 "nbformat": 4,
 "nbformat_minor": 2,
 "cells": [
  {
   "source": [
    "### Task 1 - Data Collection\n",
    "Here you will obtain the required data for the analysis. As described in the project instructions, you will perform a web scrap to obtain data from the NCDC website, import data from the John Hopkins repository, and import the provided external data.\n"
   ],
   "cell_type": "markdown",
   "metadata": {}
  },
  {
   "cell_type": "code",
   "execution_count": 46,
   "metadata": {},
   "outputs": [],
   "source": [
    "# Import all libraries in this cell\n",
    "import requests\n",
    "import numpy as np\n",
    "import urllib.request\n",
    "import pandas as pd\n",
    "import csv\n",
    "from bs4 import BeautifulSoup\n",
    "import seaborn as sns\n",
    "sns.set_style(\"darkgrid\")\n",
    "import matplotlib.pyplot as plt\n",
    "%matplotlib inline\n",
    "plt.style.use('fivethirtyeight')  \n",
    "import warnings\n",
    "warnings.filterwarnings('ignore')"
   ]
  },
  {
   "source": [
    "### A - NCDC Website scrap\n",
    "Website - https://covid19.ncdc.gov.ng/"
   ],
   "cell_type": "markdown",
   "metadata": {}
  },
  {
   "source": [
    "url = \"https://covid19.ncdc.gov.ng/\"\n",
    "page = requests.get(url).text\n",
    "# Initializing the BeautifulSoup package with the specific parser\n",
    "soup = BeautifulSoup(page, 'lxml')\n",
    "print(soup)\n"
   ],
   "cell_type": "code",
   "metadata": {
    "tags": []
   },
   "execution_count": 47,
   "outputs": [
    {
     "output_type": "stream",
     "name": "stdout",
     "text": [
      "<!DOCTYPE html>\n<html lang=\"en\">\n<head><meta content=\"text/html;charset=utf-8\" http-equiv=\"content-type\"/>\n<title>NCDC Coronavirus COVID-19 Microsite</title>\n<!--[if lt IE 11]>\n    \t<script src=\"https://oss.maxcdn.com/libs/html5shiv/3.7.0/html5shiv.js\"></script>\n    \t<script src=\"https://oss.maxcdn.com/libs/respond.js/1.4.2/respond.min.js\"></script>\n    \t<![endif]-->\n<meta charset=\"utf-8\"/>\n<meta content=\"width=device-width, initial-scale=1.0, user-scalable=0, minimal-ui\" name=\"viewport\"/>\n<meta content=\"IE=edge\" http-equiv=\"X-UA-Compatible\"/>\n<meta content=\"\" name=\"description\"/>\n<meta content=\"\" name=\"keywords\"/>\n<meta content=\"Codedthemes\" name=\"author\"/>\n<!-- Google Tag Manager -->\n<script>(function(w,d,s,l,i){w[l]=w[l]||[];w[l].push({'gtm.start':\n  new Date().getTime(),event:'gtm.js'});var f=d.getElementsByTagName(s)[0],\n  j=d.createElement(s),dl=l!='dataLayer'?'&l='+l:'';j.async=true;j.src=\n  'https://www.googletagmanager.com/gtm.js?id='+i+dl;f.parentNode.insertBefore(j,f);\n  })(window,document,'script','dataLayer','GTM-PLDLB6N');</script>\n<!-- End Google Tag Manager -->\n<link href=\"/static/img/index.ico\" rel=\"icon\" type=\"image/x-icon\"/>\n<link href=\"//cdnjs.cloudflare.com/ajax/libs/morris.js/0.5.1/morris.css\" rel=\"stylesheet\" type=\"text/css\"/>\n<link href=\"https://cdn.jsdelivr.net/npm/line-awesome@1.3.0/dist/line-awesome/css/line-awesome.min.css\" rel=\"stylesheet\" type=\"text/css\"/>\n<link href=\"https://cdnjs.cloudflare.com/ajax/libs/font-awesome/5.13.0/css/all.min.css\" rel=\"stylesheet\" type=\"text/css\"/>\n<link href=\"/static/css/style.css \" rel=\"stylesheet\"/>\n<link href=\"//cdnjs.cloudflare.com/ajax/libs/morris.js/0.5.1/morris.css\" rel=\"stylesheet\" type=\"text/css\"/>\n<style>\n        html,\n        body {\n          margin: 0;\n          height: 100%;\n          width: 100%;\n\n          box-sizing: border-box;\n        }\n     \n        #travel{\n      width: 600px;\n        }\n      \n        @media only screen and (max-device-width: 480px) {\n          #travel{\n      width: 350px;\n        }\n      \n      }\n      </style>\n<link href=\"https://ncdcgloepid.blob.core.windows.net/ncdc-gloepid/gloepid-embed.min.css\" rel=\"stylesheet\"/>\n</head><body class=\"\">\n<div class=\"loader-bg\">\n<div class=\"loader-track\">\n<div class=\"loader-fill\"></div>\n</div>\n</div>\n<style>\n  .pcoded-header.header-green a:hover, .pcoded-header.header-green dropdown-toggle {\n    color:#FFC82D;\n}\n</style>\n<nav class=\"pcoded-navbar menupos-fixed menu-light\">\n<div class=\"navbar-wrapper\">\n<div class=\"navbar-content scroll-div\">\n<ul class=\"nav pcoded-inner-navbar\">\n<li class=\"nav-item pcoded-menu-caption\">\n<label>NAVIGATION</label>\n</li>\n<li class=\"nav-item\">\n<a class=\"nav-link\" href=\"/report/\"> <span class=\"pcoded-micon\"><i class=\"feather icon-home\"></i></span><span class=\"pcoded-mtext\">Dashboard</span></a>\n</li>\n<li class=\"nav-item\">\n<a class=\"nav-link\" href=\"/state/\"><span class=\"pcoded-micon\"><i class=\"fas fa-chart-bar\"></i></span><span class=\"pcoded-mtext\">Epicurve</span></a>\n</li>\n<li class=\"nav-item\">\n<a class=\"nav-link\" href=\"/progression/\"><span class=\"pcoded-micon\"><i class=\"feather icon-layout\"></i></span><span class=\"pcoded-mtext\">Progression</span></a>\n</li>\n<li class=\"nav-item\">\n<a class=\"nav-link\" href=\"/faq/\"><span class=\"pcoded-micon\"><i class=\"feather icon-users\"></i></span><span class=\"pcoded-mtext\">FAQs</span></a>\n</li>\n<li class=\"nav-item\">\n<a class=\"nav-link\" href=\"/nitpfaq/\"><span class=\"pcoded-micon\"><i class=\"fa fa-plane\"></i></span><span class=\"pcoded-mtext\">Travel Portal FAQs</span></a>\n</li>\n<li class=\"nav-item\">\n<a class=\"nav-link\" href=\"/advisory/\"><span class=\"pcoded-micon\"><i class=\"feather icon-gitlab\"></i></span><span class=\"pcoded-mtext\">Advisory</span></a>\n</li>\n<li class=\"nav-item\">\n<a class=\"nav-link\" href=\"/guideline/\"><span class=\"pcoded-micon\"><i class=\"fa fa-book\"></i></span><span class=\"pcoded-mtext\">Guidelines</span></a>\n</li>\n<li class=\"nav-item\">\n<a class=\"nav-link\" href=\"/samplesites/\"><span class=\"pcoded-micon\"><i class=\"feather icon-feather\"></i></span><span class=\"pcoded-mtext\">Sample Collection Sites</span></a>\n</li>\n<li class=\"nav-item\">\n<a class=\"nav-link\" href=\"/resource/\"><span class=\"pcoded-micon\"><i class=\"feather icon-feather\"></i></span><span class=\"pcoded-mtext\">Resources</span></a>\n</li>\n<li class=\"nav-item pcoded-hasmenu\">\n<a class=\"nav-link\" href=\"#!\"><span class=\"pcoded-micon\"><i class=\"fa fa-flask\"></i></span><span class=\"pcoded-mtext\">Laboratories</span></a>\n<ul class=\"pcoded-submenu\">\n<li><a href=\"/laboratory/\">Government Laboratories</a></li>\n<li><a href=\"/privatelabs/\">Fee-Paying Private Laboratories</a></li>\n<li><a href=\"/corporatelabs/\">Corporate Labs</a></li>\n</ul>\n</li>\n<li class=\"nav-item pcoded-hasmenu\">\n<a class=\"nav-link\" href=\"#!\"><span class=\"pcoded-micon\"><i class=\"feather icon-home\"></i></span><span class=\"pcoded-mtext\">Nigeria Data</span></a>\n<ul class=\"pcoded-submenu\">\n<li><a href=\"/gis/\">Web View</a></li>\n<li><a href=\"/gism/\">Mobile View</a></li>\n</ul>\n</li>\n<li class=\"nav-item\">\n<a class=\"nav-link\" href=\"/globals/\"><span class=\"pcoded-micon\"><i class=\"feather icon-layers\"></i></span><span class=\"pcoded-mtext\">Global</span></a>\n</li>\n<div class=\"card text-center\">\n<div class=\"card-block\">\n<button aria-hidden=\"true\" class=\"close\" data-dismiss=\"alert\" type=\"button\">×</button>\n<i class=\"fa fa-users-o f-40\"></i>\n<h6 class=\"mt-3\">Self Assessment</h6>\n<p>\n<a class=\"btn btn-success btn-sm text-white m-0\" href=\"https://selfassessment.ncdc.gov.ng\" target=\"_blank\">Get Your COVID-19 Risk Assessment</a>\n</p>\n</div>\n</div>\n</ul>\n</div>\n</div>\n</nav>\n<header class=\"navbar pcoded-header navbar-expand-lg navbar-light headerpos-fixed header-green\">\n<div class=\"m-header\">\n<a class=\"mobile-menu\" href=\"#!\" id=\"mobile-collapse\"><span></span></a>\n<a class=\"b-brand\" href=\"#!\">\n<img alt=\"\" class=\"logo\" height=\"45\" src=\"/static/ncdc_img/ncdc_logo_black_text.png\" width=\"120\"/>\n</a>\n<a class=\"mob-toggler\" href=\"#!\">\n<i class=\"feather icon-more-vertical\"></i>\n</a>\n</div>\n<div class=\"collapse navbar-collapse\">\n<ul class=\"navbar-nav mr-auto\">\n<li class=\"nav-item\">\n<!-- <a href=\"#!\" class=\"pop-search\"><i class=\"feather icon-search\"></i></a>-->\n</li>\n<li class=\"nav-item\">\n<a class=\"full-screen\" href=\"#!\" onclick=\"javascript:toggleFullScreen()\"><i class=\"feather icon-maximize\"></i></a>\n</li>\n</ul>\n<ul class=\"navbar-nav ml-auto\">\n<li>\n<div class=\"dropdown\">\n<a href=\"https://ngcovid19resourcetracker.info\" target=\"_blank\"><i class=\"fa fa-blog\"></i> <span>PTF Resource</span></a>\n</div>\n</li>\n<li>\n<div class=\"dropdown\">\n<a href=\"/validation/\"><i class=\"fa fa-check\"></i> <span>Check Test Results</span></a>\n</div>\n</li>\n<li>\n<div class=\"dropdown\">\n<a href=\"/contact/\"><i class=\"fa fa-phone\"></i> <span>State Emergency Contacts</span></a>\n</div>\n</li>\n<li>\n<div class=\"dropdown\">\n<a href=\"https://ncdc.gov.ng/diseases/sitreps/?cat=14&amp;name=An%20update%20of%20COVID-19%20outbreak%20in%20Nigeria\" target=\"_blank\"><i class=\"fa fa-newspaper\"></i> <span>Situation Reports</span></a>\n</div>\n</li>\n<li>\n<div class=\"dropdown\">\n<a href=\"https://covid19blog.ncdc.gov.ng/\" target=\"_blank\"><i class=\"fa fa-blog\"></i> <span>COVID19blog</span></a>\n</div>\n</li>\n<li>\n<div class=\"dropdown\">\n<a href=\"https://ncdc.gov.ng/\" target=\"_blank\"><i class=\"fa fa-rocket\"></i>\n<span>NCDC</span></a>\n</div>\n</li>\n<li>\n</li>\n</ul>\n</div>\n</header>\n<div class=\"pcoded-main-container\">\n<div class=\"pcoded-content\">\n<div class=\"page-header\">\n<div class=\"page-block\">\n<div class=\"row\">\n<div class=\"col-md-12 col-xl-9\">\n<div class=\"card bg-c-white order-card\">\n<div class=\"card-body\">\n<h1 class=\"text-black\">COVID-19 NIGERIA </h1>\n<h6></h6><p class=\"m-b-0\"><span class=\"float-right\">\n<script>\n\n                                            var months = [\"Jan\", \"Feb\", \"Mar\", \"Apr\", \"May\", \"Jun\", \"Jul\", \"Aug\", \"Sep\", \"Oct\", \"Nov\", \"Dec\"];\n                                            var days = [\"Sunday\", \"Monday\", \"Tuesday\", \"Wednesday\", \"Thursday\", \"Friday\", \"Saturday\"];\n\n                                            var d = new Date();\n                                          var day = days[d.getDay()];\n                                          var hr = d.getHours();\n                                            var min = d.getMinutes();\n                                        if (min < 10) {\n                                            min = \"0\" + min;\n                                            }\n                                            var ampm = \"am\";\n                                            if( hr > 12 ) {\n                                              hr -= 12;\n                                              ampm = \"pm\";\n                                            }\n                                    var date = d.getDate();\n                                    var month = months[d.getMonth()];\n                                    var year = d.getFullYear();\n                                    var x = document.getElementById(\"time\");\n                                    var fullDate = day + \" \" + hr + \":\" + min + \" \"+ ampm + \" \" + date + \" \" + month + \" \" + year;\n                                    document.write(fullDate);\n                                        </script>\n</span></p>\n</div>\n</div>\n</div>\n<style>.newcol {\n                            background: rgba(106, 98, 36, 0.64);\n                        }\n                        </style>\n<div class=\"col-md-12 col-xl-3\">\n<div class=\"card newcol order-card\">\n<div class=\"card-body\">\n<h6 class=\"text-white\">Samples Tested</h6>\n<h2 class=\"text-right text-white\">\n<i class=\"fa fa-viruses float-left\"></i><span>1,803,177</span></h2>\n</div>\n</div>\n</div>\n</div>\n</div>\n<div class=\"row\">\n<div class=\"col-xs-3 col-md-3 col-xl-3\">\n<div class=\"card bg-c-blue order-card\">\n<div class=\"card-body\">\n<h6 class=\"text-white\">Confirmed Cases</h6>\n<h2 class=\"text-right text-white\"><i class=\"fa fa-viruses float-left\"></i><span>163,581</span></h2>\n</div>\n</div>\n</div>\n<div class=\"col-xs-3 col-md-3 col-xl-3\">\n<div class=\"card bg-c-yellow order-card\">\n<div class=\"card-body\">\n<h6 class=\"text-white\">Active Cases</h6>\n<h2 class=\"text-right text-white\"><i class=\"fa fa-viruses float-left\"></i><span>7,518</span></h2>\n</div>\n</div>\n</div>\n<div class=\"col-xs-3 col-md-3 col-xl-3\">\n<div class=\"card bg-c-green order-card\">\n<div class=\"card-body\">\n<h6 class=\"text-white\">Discharged Cases</h6>\n<h2 class=\"text-right text-white\"><i class=\"fa fa-viruses float-left\"></i><span>154,005</span></h2>\n</div>\n</div>\n</div>\n<div class=\"col-xs-3 col-md-3 col-xl-3\">\n<div class=\"card bg-c-red order-card\">\n<div class=\"card-body\">\n<h6 class=\"text-white\">Death</h6>\n<h2 class=\"text-right text-white\"><i class=\"fa fa-viruses float-left\"></i><span>2,058</span></h2>\n</div>\n</div>\n</div>\n<style>\n                    #custom1 {\n                        border-collapse: collapse;\n                        width: 100%;\n                        /*font-family: Segoe;*/\n                    }\n\n                    #custom1 td, #custom1 th {\n                        border: 1px solid #ddd;\n                        padding: 8px;\n                    }\n\n                    #custom1 tr:nth-child(even) {\n                        background-color: #f2f2f2;\n                    }\n\n                    #custom1 tr:hover {\n                        background-color: #ddd;\n                    }\n\n                    #custom1 th {\n                        padding-top: 12px;\n                        padding-bottom: 12px;\n                        text-align: left;\n                        background-color: #138750;\n                        color: white;\n                    }\n                </style>\n</div>\n<div class=\"row\">\n<div class=\"col-xl-7\">\n<div class=\"card\">\n<div class=\"card-header\">\n<h4 class=\"card-title\">Confirmed Cases by State</h4>\n</div>\n<div class=\"card-body\">\n<div class=\"table-responsive\">\n<table id=\"custom1\">\n<thead>\n<tr>\n<th>States Affected</th>\n<th>No. of Cases (Lab Confirmed)</th>\n<th>No. of Cases (on admission)</th>\n<th>No. Discharged</th>\n<th>No. of Deaths</th>\n</tr>\n</thead>\n<tbody>\n<tr>\n<td>\n                                                Lagos\n                                            </td>\n<td>57,900\n                                            </td>\n<td>471\n                                            </td>\n<td>56,990\n                                            </td>\n<td>439\n                                            </td>\n</tr>\n<tr>\n<td>\n                                                FCT\n                                            </td>\n<td>19,697\n                                            </td>\n<td>453\n                                            </td>\n<td>19,080\n                                            </td>\n<td>164\n                                            </td>\n</tr>\n<tr>\n<td>\n                                                Plateau\n                                            </td>\n<td>9,029\n                                            </td>\n<td>23\n                                            </td>\n<td>8,949\n                                            </td>\n<td>57\n                                            </td>\n</tr>\n<tr>\n<td>\n                                                Kaduna\n                                            </td>\n<td>8,984\n                                            </td>\n<td>52\n                                            </td>\n<td>8,867\n                                            </td>\n<td>65\n                                            </td>\n</tr>\n<tr>\n<td>\n                                                Rivers\n                                            </td>\n<td>6,977\n                                            </td>\n<td>30\n                                            </td>\n<td>6,847\n                                            </td>\n<td>100\n                                            </td>\n</tr>\n<tr>\n<td>\n                                                Oyo\n                                            </td>\n<td>6,838\n                                            </td>\n<td>212\n                                            </td>\n<td>6,503\n                                            </td>\n<td>123\n                                            </td>\n</tr>\n<tr>\n<td>\n                                                Edo\n                                            </td>\n<td>4,892\n                                            </td>\n<td>8\n                                            </td>\n<td>4,699\n                                            </td>\n<td>185\n                                            </td>\n</tr>\n<tr>\n<td>\n                                                Ogun\n                                            </td>\n<td>4,620\n                                            </td>\n<td>8\n                                            </td>\n<td>4,563\n                                            </td>\n<td>49\n                                            </td>\n</tr>\n<tr>\n<td>\n                                                Kano\n                                            </td>\n<td>3,918\n                                            </td>\n<td>15\n                                            </td>\n<td>3,793\n                                            </td>\n<td>110\n                                            </td>\n</tr>\n<tr>\n<td>\n                                                Ondo\n                                            </td>\n<td>3,226\n                                            </td>\n<td>1,083\n                                            </td>\n<td>2,080\n                                            </td>\n<td>63\n                                            </td>\n</tr>\n<tr>\n<td>\n                                                Kwara\n                                            </td>\n<td>3,120\n                                            </td>\n<td>251\n                                            </td>\n<td>2,814\n                                            </td>\n<td>55\n                                            </td>\n</tr>\n<tr>\n<td>\n                                                Delta\n                                            </td>\n<td>2,613\n                                            </td>\n<td>798\n                                            </td>\n<td>1,744\n                                            </td>\n<td>71\n                                            </td>\n</tr>\n<tr>\n<td>\n                                                Osun\n                                            </td>\n<td>2,544\n                                            </td>\n<td>30\n                                            </td>\n<td>2,462\n                                            </td>\n<td>52\n                                            </td>\n</tr>\n<tr>\n<td>\n                                                Nasarawa\n                                            </td>\n<td>2,378\n                                            </td>\n<td>1,992\n                                            </td>\n<td>373\n                                            </td>\n<td>13\n                                            </td>\n</tr>\n<tr>\n<td>\n                                                Enugu\n                                            </td>\n<td>2,259\n                                            </td>\n<td>257\n                                            </td>\n<td>1,973\n                                            </td>\n<td>29\n                                            </td>\n</tr>\n<tr>\n<td>\n                                                Katsina\n                                            </td>\n<td>2,097\n                                            </td>\n<td>14\n                                            </td>\n<td>2,049\n                                            </td>\n<td>34\n                                            </td>\n</tr>\n<tr>\n<td>\n                                                Gombe\n                                            </td>\n<td>2,034\n                                            </td>\n<td>4\n                                            </td>\n<td>1,986\n                                            </td>\n<td>44\n                                            </td>\n</tr>\n<tr>\n<td>\n                                                Ebonyi\n                                            </td>\n<td>2,008\n                                            </td>\n<td>11\n                                            </td>\n<td>1,965\n                                            </td>\n<td>32\n                                            </td>\n</tr>\n<tr>\n<td>\n                                                Anambra\n                                            </td>\n<td>1,909\n                                            </td>\n<td>64\n                                            </td>\n<td>1,826\n                                            </td>\n<td>19\n                                            </td>\n</tr>\n<tr>\n<td>\n                                                Akwa Ibom\n                                            </td>\n<td>1,788\n                                            </td>\n<td>75\n                                            </td>\n<td>1,699\n                                            </td>\n<td>14\n                                            </td>\n</tr>\n<tr>\n<td>\n                                                Abia\n                                            </td>\n<td>1,677\n                                            </td>\n<td>11\n                                            </td>\n<td>1,645\n                                            </td>\n<td>21\n                                            </td>\n</tr>\n<tr>\n<td>\n                                                Imo\n                                            </td>\n<td>1,655\n                                            </td>\n<td>26\n                                            </td>\n<td>1,592\n                                            </td>\n<td>37\n                                            </td>\n</tr>\n<tr>\n<td>\n                                                Bauchi\n                                            </td>\n<td>1,538\n                                            </td>\n<td>6\n                                            </td>\n<td>1,515\n                                            </td>\n<td>17\n                                            </td>\n</tr>\n<tr>\n<td>\n                                                Borno\n                                            </td>\n<td>1,337\n                                            </td>\n<td>99\n                                            </td>\n<td>1,200\n                                            </td>\n<td>38\n                                            </td>\n</tr>\n<tr>\n<td>\n                                                Benue\n                                            </td>\n<td>1,188\n                                            </td>\n<td>575\n                                            </td>\n<td>591\n                                            </td>\n<td>22\n                                            </td>\n</tr>\n<tr>\n<td>\n                                                Adamawa\n                                            </td>\n<td>1,051\n                                            </td>\n<td>745\n                                            </td>\n<td>274\n                                            </td>\n<td>32\n                                            </td>\n</tr>\n<tr>\n<td>\n                                                Niger\n                                            </td>\n<td>930\n                                            </td>\n<td>0\n                                            </td>\n<td>913\n                                            </td>\n<td>17\n                                            </td>\n</tr>\n<tr>\n<td>\n                                                Taraba\n                                            </td>\n<td>910\n                                            </td>\n<td>24\n                                            </td>\n<td>864\n                                            </td>\n<td>22\n                                            </td>\n</tr>\n<tr>\n<td>\n                                                Bayelsa\n                                            </td>\n<td>871\n                                            </td>\n<td>26\n                                            </td>\n<td>819\n                                            </td>\n<td>26\n                                            </td>\n</tr>\n<tr>\n<td>\n                                                Ekiti\n                                            </td>\n<td>868\n                                            </td>\n<td>15\n                                            </td>\n<td>842\n                                            </td>\n<td>11\n                                            </td>\n</tr>\n<tr>\n<td>\n                                                Sokoto\n                                            </td>\n<td>775\n                                            </td>\n<td>1\n                                            </td>\n<td>746\n                                            </td>\n<td>28\n                                            </td>\n</tr>\n<tr>\n<td>\n                                                Jigawa\n                                            </td>\n<td>524\n                                            </td>\n<td>23\n                                            </td>\n<td>485\n                                            </td>\n<td>16\n                                            </td>\n</tr>\n<tr>\n<td>\n                                                Kebbi\n                                            </td>\n<td>450\n                                            </td>\n<td>42\n                                            </td>\n<td>392\n                                            </td>\n<td>16\n                                            </td>\n</tr>\n<tr>\n<td>\n                                                Cross River\n                                            </td>\n<td>385\n                                            </td>\n<td>10\n                                            </td>\n<td>357\n                                            </td>\n<td>18\n                                            </td>\n</tr>\n<tr>\n<td>\n                                                Yobe\n                                            </td>\n<td>352\n                                            </td>\n<td>59\n                                            </td>\n<td>284\n                                            </td>\n<td>9\n                                            </td>\n</tr>\n<tr>\n<td>\n                                                Zamfara\n                                            </td>\n<td>234\n                                            </td>\n<td>5\n                                            </td>\n<td>221\n                                            </td>\n<td>8\n                                            </td>\n</tr>\n<tr>\n<td>\n                                                Kogi\n                                            </td>\n<td>5\n                                            </td>\n<td>0\n                                            </td>\n<td>3\n                                            </td>\n<td>2\n                                            </td>\n</tr>\n</tbody>\n</table>\n</div>\n</div>\n</div>\n</div>\n<div class=\"col-xl-5\">\n<div class=\"card feed-card\">\n<div class=\"card-header\">\n<div class=\"card-box\">\n<!--  <a href=\"https://nitp.ncdc.gov.ng/splash-screen\"><video width=\"400\" height=\"auto\" controls><source src=\"https://covid19.ncdc.gov.ng/media/nitp.mp4\" type=\"video/mp4\"></video></a>\n                                <br>-->\n<h4 class=\"card-title\">Highlights</h4>\n<ul style=\"text-align: justify\">\n<li>On the 8th of April 2021, 83 new confirmed cases were recorded in Nigeria</li>\n<li>Till date, 163581 cases have been confirmed, 154005 cases have been discharged and 2058 deaths have been recorded in 36 states and the Federal Capital Territory</li>\n<li>The 83 new cases are reported from 14 states- Lagos (22), Rivers (18), Nasarawa (9), Cross River (8),  Ondo (6), Delta  (5), Akwa Ibom (4), Bauchi (3), Zamfara (2) Kaduna (2), Ebonyi (1), Sokoto (1), Ekiti (1) and Kano (1)</li>\n<li>A multi-sectoral national emergency operations centre (EOC), activated at Level 3, continues to coordinate the national response activities</li>\n</ul>\n<a href=\"https://ncdc.gov.ng/diseases/sitreps/?cat=14&amp;name=An%20update%20of%20COVID-19%20outbreak%20in%20Nigeria\" target=\"_blank\"><b>Click here to read more</b></a>\n</div>\n</div>\n</div>\n<div class=\"card feed-card\">\n<div class=\"card-header\">\n<div class=\"card-box\">\n<a class=\"twitter-timeline\" data-chrome=\"nofooter noborders transparent\" data-height=\"800\" data-lang=\"en\" data-theme=\"light\" href=\"https://twitter.com/NCDCgov?ref_src=twsrc%5Etfw\">Tweets by NCDCgov</a>\n<script async=\"\" charset=\"utf-8\" src=\"https://platform.twitter.com/widgets.js\"></script>\n</div>\n</div>\n</div>\n</div>\n</div>\n<div class=\"row card-header\">\n<h4>Updates</h4>\n</div>\n<div class=\"row\">\n<div class=\"col-md-4 col-sm-4 col-lg-4\">\n<div class=\"card\" style=\"height: 100px;\">\n<div class=\"card-body\">\n<div class=\"timeline-content\">\n<span style=\"display: block\">\n<i aria-hidden=\"true\" class=\"fa fa-file-pdf\" style=\"color:red\"></i>\n<a class=\"name\" href=\"/media/files/COVIDResponseMarch1.pdf\" target=\"_blank\">One Year After:\nNigeria’s COVID-19\nPublic Health Response\nFEBRUARY 2020 – JANUARY 2021 </a></span>\n<span class=\"time\">March 1, 2021</span>\n</div>\n</div>\n</div>\n</div>\n<div class=\"col-md-4 col-sm-4 col-lg-4\">\n<div class=\"card\" style=\"height: 100px;\">\n<div class=\"card-body\">\n<div class=\"timeline-content\">\n<span style=\"display: block\">\n<i aria-hidden=\"true\" class=\"fa fa-file-pdf\" style=\"color:red\"></i>\n<a class=\"name\" href=\"/media/files/STATEMENT_ON_VARIANTS_OF_SARS-COV-2_IN_NIGERIA_ZyRAI48.pdf\" target=\"_blank\">STATEMENT ON VARIANTS OF SARS-COv-2 IN NIGERIA </a></span>\n<span class=\"time\">Feb. 19, 2021</span>\n</div>\n</div>\n</div>\n</div>\n<div class=\"col-md-4 col-sm-4 col-lg-4\">\n<div class=\"card\" style=\"height: 100px;\">\n<div class=\"card-body\">\n<div class=\"timeline-content\">\n<span style=\"display: block\">\n<i aria-hidden=\"true\" class=\"fa fa-file-pdf\" style=\"color:red\"></i>\n<a class=\"name\" href=\"/media/files/Guidance_for_Integrated_Safe_School_Reopening_2nd_Edition.pdf\" target=\"_blank\">Guidance for Integrated\nSafe School Re-opening </a></span>\n<span class=\"time\">Feb. 17, 2021</span>\n</div>\n</div>\n</div>\n</div>\n<div class=\"col-md-4 col-sm-4 col-lg-4\">\n<div class=\"card\" style=\"height: 100px;\">\n<div class=\"card-body\">\n<div class=\"timeline-content\">\n<span style=\"display: block\">\n<i aria-hidden=\"true\" class=\"fa fa-file-pdf\" style=\"color:red\"></i>\n<a class=\"name\" href=\"/media/files/Coronavirus_Disease_COVID19_Health_Protection_Regulations_2021.pdf\" target=\"_blank\">CORONAVIRUS DISEASE (COVID-19) HEALTH PROTECTION\nREGULATIONS 2021 </a></span>\n<span class=\"time\">Feb. 1, 2021</span>\n</div>\n</div>\n</div>\n</div>\n<div class=\"col-md-4 col-sm-4 col-lg-4\">\n<div class=\"card\" style=\"height: 100px;\">\n<div class=\"card-body\">\n<div class=\"timeline-content\">\n<span style=\"display: block\">\n<i aria-hidden=\"true\" class=\"fa fa-file-pdf\" style=\"color:red\"></i>\n<a class=\"name\" href=\"/media/files/Community_Case_Definition_January_2021.pdf\" target=\"_blank\">Community Case Definitions\nfor Coronavirus Disease 2019\nJanuary 2021 </a></span>\n<span class=\"time\">Feb. 1, 2021</span>\n</div>\n</div>\n</div>\n</div>\n<div class=\"col-md-4 col-sm-4 col-lg-4\">\n<div class=\"card\" style=\"height: 100px;\">\n<div class=\"card-body\">\n<div class=\"timeline-content\">\n<span style=\"display: block\">\n<i aria-hidden=\"true\" class=\"fa fa-file-pdf\" style=\"color:red\"></i>\n<a class=\"name\" href=\"/media/files/Social_Distancing_Guide_2_pGU7xcC.pdf\" target=\"_blank\">Guideline on Social Distancing </a></span>\n<span class=\"time\">Jan. 28, 2021</span>\n</div>\n</div>\n</div>\n</div>\n</div>\n<div class=\"row\" style=\"margin-left: 10px\">\n<a href=\"/archive/\" target=\"_blank\"><b>Click here to access archive</b></a>\n</div>\n</div>\n<div class=\"row\">\n<div class=\"col-md-4 col-sm-4 col-lg-4\">\n<div class=\"card\">\n<div class=\"card-body\">\n<iframe allow=\"accelerometer; autoplay; encrypted-media; gyroscope; picture-in-picture\" allowfullscreen=\"\" data-src=\"https://www.youtube.com/embed/G-wB_IANUzw\" frameborder=\"0\" height=\"315\" src=\"\" width=\"100%\"></iframe>\n</div>\n</div>\n</div>\n<div class=\"col-md-4 col-sm-4 col-lg-4\">\n<div class=\"card\">\n<div class=\"card-body\">\n<iframe allow=\"accelerometer; autoplay; encrypted-media; gyroscope; picture-in-picture\" allowfullscreen=\"\" data-src=\"https://www.youtube.com/embed/tOM68QCA5sk\" frameborder=\"0\" height=\"315\" src=\"\" width=\"100%\"></iframe>\n</div>\n</div>\n</div>\n<div class=\"col-md-4 col-sm-4 col-lg-4\">\n<div class=\"card\">\n<div class=\"card-body\">\n<iframe allow=\"accelerometer; autoplay; encrypted-media; gyroscope; picture-in-picture\" allowfullscreen=\"\" data-src=\"https://www.youtube.com/embed/PToko-KysHs\" frameborder=\"0\" height=\"315\" src=\"\" width=\"100%\"></iframe>\n<!-- The Modal -->\n<div class=\"modal\" id=\"myModal\">\n<div class=\"modal-dialog\">\n<div class=\"modal-content\" id=\"travel\">\n<!-- Modal Header -->\n<div class=\"modal-header\">\n<h4 class=\"modal-title text-center\">On International Travel</h4>\n<button class=\"close\" data-dismiss=\"modal\" type=\"button\">×</button>\n</div>\n<!-- Modal body -->\n<div class=\"modal-body\">\n<a href=\"https://nitp.ncdc.gov.ng/splash-screen\"> <img class=\"img-fluid\" src=\"https://covid19.ncdc.gov.ng/media/files/Artboard-1NITP-Live.jpg\"/> </a>\n</div>\n<!-- Modal footer -->\n<div class=\"modal-footer\">\n<a class=\"btn btn-dark text-white\" href=\"https://covid19.ncdc.gov.ng/nitpfaq/\">Travel Portal FAQs</a> <a class=\"btn btn-primary text-white\" href=\"https://covid19.ncdc.gov.ng/media/files/COVID19_Provisional__Quarantine_Protocol_for_Air_Travel_10_01_21_Ako.pdf\">Download Travel Protocol</a>\n<a class=\"btn btn-danger text-white\" href=\"https://covid19.ncdc.gov.ng/media/files/COVID19_Provisional_Quarantine_Protocol_for_UK_SA AirTravelv4_Ako.pdf\">For Travellers From UK And South Africa</a>\n<!--  <button type=\"button\" class=\"btn btn-danger\" data-dismiss=\"modal\">Close</button>  -->\n</div>\n</div>\n</div>\n</div>\n</div>\n</div>\n</div>\n</div>\n</div>\n</div>\n<style>\n\t.footer-content{\n\t\n\t\tpadding: 30px;\n\t\t\n\t}\n\t.footer-content a{\n\t\tcolor: white;\n\t}\n\t.social{\n\t\tcolor: #FFF;\n\t}\n\t.footer-logo a{\n\t\tcolor: #FFF;\n\t}\n</style>\n<style>\nfooter {\n  background-color: yellow;\n}\n\n@media only screen and (max-width: 600px) {\n  footer {\n    background-color: lightblue;\n  }\n}\n</style>\n<div class=\"footer-area foomter\" style=\"background-color: #138750\">\n<div class=\"container\">\n<div class=\"row\">\n<div class=\"col-md-4 col-sm-4 col-xs-12\">\n<div class=\"footer-content text-white\">\n<div class=\"footer-head\">\n<div class=\"footer-logo\">\n<h2 class=\"text-white\">Contact</h2>\n</div>\n<p>Plot 801, Ebitu Ukiwe Street, Jabi, Abuja, Nigeria<br/>\n                  6232 (Toll-Free Call Centre)<br/>\n                  info@ncdc.gov.ng</p>\n</div>\n</div>\n</div>\n<!-- end single footer -->\n<div class=\"col-md-4 col-sm-4 col-xs-12\">\n<div class=\"footer-content\">\n<div class=\"footer-head\">\n<div class=\"footer-logo\">\n<h2 class=\"text-white\"><span></span>Social Media</h2>\n</div>\n<div class=\"text-white social\">\n<a href=\"https://facebook.com/NCDCgov\" style=\"color: #FFF;\" target=\"_blank\"><i class=\"la la-facebook\"></i> @NCDCGov</a>\n</div>\n<div class=\"text-white social\">\n<a class=\"text-white\" href=\"https://twitter.com/NCDCgov\" target=\"_blank\"><i class=\"la la-twitter\"></i> @NCDCGov</a>\n</div>\n<div class=\"text-white social\">\n<a class=\"text-white\" href=\"https://www.youtube.com/channel/UC1PmRDsjQC5ovpmEBmNhuGg\" target=\"_blank\"><i class=\"la la-youtube\"></i> NCDC</a>\n</div>\n<div class=\"text-white social\">\n<a class=\"text-white\" href=\"https://instagram.com/ncdcgov\" target=\"_blank\"><i class=\"la la-instagram\"></i> NCDCgov</a>\n</div>\n<div class=\"text-white social\">\n<a class=\"text-white\" href=\"https://t.me/NCDCgov\" target=\"_blank\"><i class=\"fa fa-envelope\"></i> t.me/NCDCgov (Telegram)</a>\n</div>\n<hr/>\n<div class=\"text-white social\" style=\"font-size: 7px !important;\">\n<p style=\"font-size: 10px !important;\">Supported by Georgetown University - CGHPI</p>\n</div>\n</div>\n</div>\n</div>\n<!-- end single footer -->\n<div class=\"col-md-4 col-sm-4 col-xs-12\">\n<div class=\"footer-content\">\n<div class=\"footer-head\">\n<div class=\"footer-logo\">\n<h2 class=\"text-white\"><span></span>Mandate of NCDC</h2>\n</div>\n<p class=\"text-white\">\n                  The Nigeria Centre for Disease Control (NCDC) was established in the year 2011 in response to the challenges of public health emergencies and to enhance Nigeria’s preparedness and response to epidemics through prevention, detection and control of communicable diseases.  \n\n                </p>\n</div>\n</div>\n</div>\n</div>\n</div>\n</div>\n<style>\n    #connectcenter {\n      background-color: #ffC82D;\n      margin-top: -20px;\n    }\n    #connectcenter img {\n     \n      margin: 0px 16px 0px 0px;\n      width: 32px !important;\n    }\n    #connectcenter li {\n      font-size: 1.2em;\n      \n    }\n\t   a#social{text-decoration: none;\n\t  color: #444444;}\n\n    .img-thumbnail{\n      background-color: none;\n\n    }\n    \n </style>\n<div class=\"yellow darken-4 white-text foomter\" id=\"connectcenter\" style=\"border-top: solid 1px white;padding-left: 20px\">\n<h3>Connect Centre</h3>\n<div class=\"row\">\n<div class=\"col-md-4\">\n<img class=\"img img-thumbnail img-responsive\" src=\"/static/img/public-phone1.png\" style=\"width: 64px\"/>Toll Free Number: <b>6232</b>\n</div>\n<div class=\"col-md-4\">\n<a href=\"https://api.whatsapp.com/send?phone=+2347087110839\" id=\"social\"><img class=\"img img-thumbnail img-responsive\" src=\"/static/images/social/whatsapp.png\" style=\"width: 64px\"/>Whatsapp: <b>+234708 711 0839</b></a>\n</div>\n<div class=\"col-md-4\">\n<img class=\"img img-thumbnail img-responsive\" src=\"/static/images/social/public-phone.png\" style=\"width: 64px\"/>SMS Number: <b>+234809 955 5577</b>\n</div>\n</div>\n</div>\n<script src=\"https://ncdcgloepid.blob.core.windows.net/ncdc-gloepid/gloepid-embed.min.js\"></script>\n<script src=\"/static/js/vendor-all.min.js\"></script>\n<script crossorigin=\"anonymous\" integrity=\"sha384-JjSmVgyd0p3pXB1rRibZUAYoIIy6OrQ6VrjIEaFf/nJGzIxFDsf4x0xIM+B07jRM\" src=\"https://stackpath.bootstrapcdn.com/bootstrap/4.3.1/js/bootstrap.min.js\"></script>\n<script src=\"/static/js/pcoded.min.js\"></script>\n<script src=\"//cdnjs.cloudflare.com/ajax/libs/morris.js/0.5.1/morris.min.js\" type=\"text/javascript\"></script>\n<script src=\"//cdnjs.cloudflare.com/ajax/libs/raphael/2.1.0/raphael-min.js\" type=\"text/javascript\"></script>\n<script src=\"/static/js/app.js\" type=\"text/javascript\"></script>\n<!-- Global site tag (gtag.js) - Google Analytics -->\n<script async=\"\" src=\"https://www.googletagmanager.com/gtag/js?id=G-X0FT1KY27K\"></script>\n<script>\n    window.dataLayer = window.dataLayer || [];\n    function gtag(){dataLayer.push(arguments);}\n    gtag('js', new Date());\n\n    gtag('config', 'G-X0FT1KY27K');\n\n    </script>\n<!-- Global site tag (gtag.js) - Google Analytics -->\n<script async=\"\" src=\"https://www.googletagmanager.com/gtag/js?id=UA-161734978-1\"></script>\n<script>\n    window.dataLayer = window.dataLayer || [];\n    function gtag(){dataLayer.push(arguments);}\n    gtag('js', new Date());\n\n    gtag('config', 'UA-161734978-1');\n    </script>\n<script>\n      function init() {\nvar vidDefer = document.getElementsByTagName('iframe');\nfor (var i=0; i<vidDefer.length; i++) {\nif(vidDefer[i].getAttribute('data-src')) {\nvidDefer[i].setAttribute('src',vidDefer[i].getAttribute('data-src'));\n} } }\nwindow.onload = init;\n  </script>\n<script>\n  $(document).ready(function(){\n      $(\"#myModal\").modal('show');\n  });\n\n\n</script>\n</body>\n</html>\n\n"
     ]
    }
   ]
  },
  {
   "cell_type": "code",
   "execution_count": 48,
   "metadata": {},
   "outputs": [
    {
     "output_type": "stream",
     "name": "stdout",
     "text": [
      "['States Affected', 'No. of Cases (Lab Confirmed)', 'No. of Cases (on admission)', 'No. Discharged', 'No. of Deaths']\n"
     ]
    }
   ],
   "source": [
    "table = soup.find(\"table\", id=\"custom1\")\n",
    "\n",
    "# Getting the Table header names \n",
    "\n",
    "table_headers = table.thead.findAll(\"tr\")\n",
    "for k in range(len(table_headers)):\n",
    "    data = table_headers[k].find_all(\"th\")\n",
    "    column_names = [j.string.strip() for j in data]\n",
    "    \n",
    "print(column_names)"
   ]
  },
  {
   "cell_type": "code",
   "execution_count": 49,
   "metadata": {},
   "outputs": [
    {
     "output_type": "execute_result",
     "data": {
      "text/plain": [
       "{0: ['Lagos', '57,900', '471', '56,990', '439'],\n",
       " 1: ['FCT', '19,697', '453', '19,080', '164'],\n",
       " 2: ['Plateau', '9,029', '23', '8,949', '57'],\n",
       " 3: ['Kaduna', '8,984', '52', '8,867', '65'],\n",
       " 4: ['Rivers', '6,977', '30', '6,847', '100'],\n",
       " 5: ['Oyo', '6,838', '212', '6,503', '123'],\n",
       " 6: ['Edo', '4,892', '8', '4,699', '185'],\n",
       " 7: ['Ogun', '4,620', '8', '4,563', '49'],\n",
       " 8: ['Kano', '3,918', '15', '3,793', '110'],\n",
       " 9: ['Ondo', '3,226', '1,083', '2,080', '63'],\n",
       " 10: ['Kwara', '3,120', '251', '2,814', '55'],\n",
       " 11: ['Delta', '2,613', '798', '1,744', '71'],\n",
       " 12: ['Osun', '2,544', '30', '2,462', '52'],\n",
       " 13: ['Nasarawa', '2,378', '1,992', '373', '13'],\n",
       " 14: ['Enugu', '2,259', '257', '1,973', '29'],\n",
       " 15: ['Katsina', '2,097', '14', '2,049', '34'],\n",
       " 16: ['Gombe', '2,034', '4', '1,986', '44'],\n",
       " 17: ['Ebonyi', '2,008', '11', '1,965', '32'],\n",
       " 18: ['Anambra', '1,909', '64', '1,826', '19'],\n",
       " 19: ['Akwa Ibom', '1,788', '75', '1,699', '14'],\n",
       " 20: ['Abia', '1,677', '11', '1,645', '21'],\n",
       " 21: ['Imo', '1,655', '26', '1,592', '37'],\n",
       " 22: ['Bauchi', '1,538', '6', '1,515', '17'],\n",
       " 23: ['Borno', '1,337', '99', '1,200', '38'],\n",
       " 24: ['Benue', '1,188', '575', '591', '22'],\n",
       " 25: ['Adamawa', '1,051', '745', '274', '32'],\n",
       " 26: ['Niger', '930', '0', '913', '17'],\n",
       " 27: ['Taraba', '910', '24', '864', '22'],\n",
       " 28: ['Bayelsa', '871', '26', '819', '26'],\n",
       " 29: ['Ekiti', '868', '15', '842', '11'],\n",
       " 30: ['Sokoto', '775', '1', '746', '28'],\n",
       " 31: ['Jigawa', '524', '23', '485', '16'],\n",
       " 32: ['Kebbi', '450', '42', '392', '16'],\n",
       " 33: ['Cross River', '385', '10', '357', '18'],\n",
       " 34: ['Yobe', '352', '59', '284', '9'],\n",
       " 35: ['Zamfara', '234', '5', '221', '8'],\n",
       " 36: ['Kogi', '5', '0', '3', '2']}"
      ]
     },
     "metadata": {},
     "execution_count": 49
    }
   ],
   "source": [
    "# Extracting the keys ('States Affected' column) and the Values from the table using the <td> tag\n",
    "values = []\n",
    "keys = []\n",
    "table_data = table.tbody.findAll('tr')\n",
    "for k in range(len(table_data)):\n",
    "    key = table_data[k].find_all(\"td\")[0].string.strip()\n",
    "    keys.append(key)\n",
    "    value = [j.string.strip() for j in table_data[k].find_all(\"td\")]\n",
    "    values.append(value)\n",
    "    \n",
    "# Creating an enumerated dictionary object to create our dataframe\n",
    "dataframe_dict = dict(enumerate(values))\n",
    "dataframe_dict"
   ]
  },
  {
   "cell_type": "code",
   "execution_count": 50,
   "metadata": {},
   "outputs": [
    {
     "output_type": "execute_result",
     "data": {
      "text/plain": [
       "  States Affected No. of Cases (Lab Confirmed) No. of Cases (on admission)  \\\n",
       "0           Lagos                       57,900                         471   \n",
       "1             FCT                       19,697                         453   \n",
       "2         Plateau                        9,029                          23   \n",
       "3          Kaduna                        8,984                          52   \n",
       "4          Rivers                        6,977                          30   \n",
       "\n",
       "  No. Discharged No. of Deaths  \n",
       "0         56,990           439  \n",
       "1         19,080           164  \n",
       "2          8,949            57  \n",
       "3          8,867            65  \n",
       "4          6,847           100  "
      ],
      "text/html": "<div>\n<style scoped>\n    .dataframe tbody tr th:only-of-type {\n        vertical-align: middle;\n    }\n\n    .dataframe tbody tr th {\n        vertical-align: top;\n    }\n\n    .dataframe thead th {\n        text-align: right;\n    }\n</style>\n<table border=\"1\" class=\"dataframe\">\n  <thead>\n    <tr style=\"text-align: right;\">\n      <th></th>\n      <th>States Affected</th>\n      <th>No. of Cases (Lab Confirmed)</th>\n      <th>No. of Cases (on admission)</th>\n      <th>No. Discharged</th>\n      <th>No. of Deaths</th>\n    </tr>\n  </thead>\n  <tbody>\n    <tr>\n      <th>0</th>\n      <td>Lagos</td>\n      <td>57,900</td>\n      <td>471</td>\n      <td>56,990</td>\n      <td>439</td>\n    </tr>\n    <tr>\n      <th>1</th>\n      <td>FCT</td>\n      <td>19,697</td>\n      <td>453</td>\n      <td>19,080</td>\n      <td>164</td>\n    </tr>\n    <tr>\n      <th>2</th>\n      <td>Plateau</td>\n      <td>9,029</td>\n      <td>23</td>\n      <td>8,949</td>\n      <td>57</td>\n    </tr>\n    <tr>\n      <th>3</th>\n      <td>Kaduna</td>\n      <td>8,984</td>\n      <td>52</td>\n      <td>8,867</td>\n      <td>65</td>\n    </tr>\n    <tr>\n      <th>4</th>\n      <td>Rivers</td>\n      <td>6,977</td>\n      <td>30</td>\n      <td>6,847</td>\n      <td>100</td>\n    </tr>\n  </tbody>\n</table>\n</div>"
     },
     "metadata": {},
     "execution_count": 50
    }
   ],
   "source": [
    "#convert to dataframe\n",
    "df_ncdc = pd.DataFrame(dataframe_dict).T\n",
    "df_ncdc.columns = column_names\n",
    "df_ncdc.head()\n"
   ]
  },
  {
   "source": [
    "### B - John Hopkins Data Repository\n",
    "Here you will obtain data from the John Hopkins repository. Your task here involves saving the data from the GitHub repo link to DataFrame for further analysis. Find the links below. \n",
    "* Global Daily Confirmed Cases - Click [Here](https://github.com/CSSEGISandData/COVID-19/blob/master/csse_covid_19_data/csse_covid_19_time_series/time_series_covid19_confirmed_global.csv)\n",
    "* Global Daily Recovered Cases - Click [Here](https://github.com/CSSEGISandData/COVID-19/blob/master/csse_covid_19_data/csse_covid_19_time_series/time_series_covid19_recovered_global.csv)\n",
    "* Global Daily Death Cases - Click [Here](https://github.com/CSSEGISandData/COVID-19/blob/master/csse_covid_19_data/csse_covid_19_time_series/time_series_covid19_deaths_global.csv)"
   ],
   "cell_type": "markdown",
   "metadata": {}
  },
  {
   "source": [
    "# Using the raw user github user content\n",
    "confd = 'https://raw.githubusercontent.com/CSSEGISandData/COVID-19/master/csse_covid_19_data/csse_covid_19_time_series/time_series_covid19_confirmed_global.csv'\n",
    "\n",
    "recov = 'https://raw.githubusercontent.com/CSSEGISandData/COVID-19/master/csse_covid_19_data/csse_covid_19_time_series/time_series_covid19_recovered_global.csv'\n",
    "\n",
    "death = 'https://raw.githubusercontent.com/CSSEGISandData/COVID-19/master/csse_covid_19_data/csse_covid_19_time_series/time_series_covid19_recovered_global.csv'"
   ],
   "cell_type": "code",
   "metadata": {},
   "execution_count": 51,
   "outputs": []
  },
  {
   "cell_type": "code",
   "execution_count": 52,
   "metadata": {},
   "outputs": [
    {
     "output_type": "execute_result",
     "data": {
      "text/plain": [
       "  Province/State Country/Region       Lat       Long  1/22/20  1/23/20  \\\n",
       "0            NaN    Afghanistan  33.93911  67.709953        0        0   \n",
       "1            NaN        Albania  41.15330  20.168300        0        0   \n",
       "2            NaN        Algeria  28.03390   1.659600        0        0   \n",
       "3            NaN        Andorra  42.50630   1.521800        0        0   \n",
       "4            NaN         Angola -11.20270  17.873900        0        0   \n",
       "\n",
       "   1/24/20  1/25/20  1/26/20  1/27/20  ...  3/30/21  3/31/21  4/1/21  4/2/21  \\\n",
       "0        0        0        0        0  ...    56384    56454   56517   56572   \n",
       "1        0        0        0        0  ...   124723   125157  125506  125842   \n",
       "2        0        0        0        0  ...   117061   117192  117304  117429   \n",
       "3        0        0        0        0  ...    11944    12010   12053   12115   \n",
       "4        0        0        0        0  ...    22182    22311   22399   22467   \n",
       "\n",
       "   4/3/21  4/4/21  4/5/21  4/6/21  4/7/21  4/8/21  \n",
       "0   56595   56676   56717   56779   56873   56943  \n",
       "1  126183  126531  126795  126936  127192  127509  \n",
       "2  117524  117622  117739  117879  118004  118116  \n",
       "3   12174   12231   12286   12328   12363   12409  \n",
       "4   22579   22631   22717   22885   23010   23108  \n",
       "\n",
       "[5 rows x 447 columns]"
      ],
      "text/html": "<div>\n<style scoped>\n    .dataframe tbody tr th:only-of-type {\n        vertical-align: middle;\n    }\n\n    .dataframe tbody tr th {\n        vertical-align: top;\n    }\n\n    .dataframe thead th {\n        text-align: right;\n    }\n</style>\n<table border=\"1\" class=\"dataframe\">\n  <thead>\n    <tr style=\"text-align: right;\">\n      <th></th>\n      <th>Province/State</th>\n      <th>Country/Region</th>\n      <th>Lat</th>\n      <th>Long</th>\n      <th>1/22/20</th>\n      <th>1/23/20</th>\n      <th>1/24/20</th>\n      <th>1/25/20</th>\n      <th>1/26/20</th>\n      <th>1/27/20</th>\n      <th>...</th>\n      <th>3/30/21</th>\n      <th>3/31/21</th>\n      <th>4/1/21</th>\n      <th>4/2/21</th>\n      <th>4/3/21</th>\n      <th>4/4/21</th>\n      <th>4/5/21</th>\n      <th>4/6/21</th>\n      <th>4/7/21</th>\n      <th>4/8/21</th>\n    </tr>\n  </thead>\n  <tbody>\n    <tr>\n      <th>0</th>\n      <td>NaN</td>\n      <td>Afghanistan</td>\n      <td>33.93911</td>\n      <td>67.709953</td>\n      <td>0</td>\n      <td>0</td>\n      <td>0</td>\n      <td>0</td>\n      <td>0</td>\n      <td>0</td>\n      <td>...</td>\n      <td>56384</td>\n      <td>56454</td>\n      <td>56517</td>\n      <td>56572</td>\n      <td>56595</td>\n      <td>56676</td>\n      <td>56717</td>\n      <td>56779</td>\n      <td>56873</td>\n      <td>56943</td>\n    </tr>\n    <tr>\n      <th>1</th>\n      <td>NaN</td>\n      <td>Albania</td>\n      <td>41.15330</td>\n      <td>20.168300</td>\n      <td>0</td>\n      <td>0</td>\n      <td>0</td>\n      <td>0</td>\n      <td>0</td>\n      <td>0</td>\n      <td>...</td>\n      <td>124723</td>\n      <td>125157</td>\n      <td>125506</td>\n      <td>125842</td>\n      <td>126183</td>\n      <td>126531</td>\n      <td>126795</td>\n      <td>126936</td>\n      <td>127192</td>\n      <td>127509</td>\n    </tr>\n    <tr>\n      <th>2</th>\n      <td>NaN</td>\n      <td>Algeria</td>\n      <td>28.03390</td>\n      <td>1.659600</td>\n      <td>0</td>\n      <td>0</td>\n      <td>0</td>\n      <td>0</td>\n      <td>0</td>\n      <td>0</td>\n      <td>...</td>\n      <td>117061</td>\n      <td>117192</td>\n      <td>117304</td>\n      <td>117429</td>\n      <td>117524</td>\n      <td>117622</td>\n      <td>117739</td>\n      <td>117879</td>\n      <td>118004</td>\n      <td>118116</td>\n    </tr>\n    <tr>\n      <th>3</th>\n      <td>NaN</td>\n      <td>Andorra</td>\n      <td>42.50630</td>\n      <td>1.521800</td>\n      <td>0</td>\n      <td>0</td>\n      <td>0</td>\n      <td>0</td>\n      <td>0</td>\n      <td>0</td>\n      <td>...</td>\n      <td>11944</td>\n      <td>12010</td>\n      <td>12053</td>\n      <td>12115</td>\n      <td>12174</td>\n      <td>12231</td>\n      <td>12286</td>\n      <td>12328</td>\n      <td>12363</td>\n      <td>12409</td>\n    </tr>\n    <tr>\n      <th>4</th>\n      <td>NaN</td>\n      <td>Angola</td>\n      <td>-11.20270</td>\n      <td>17.873900</td>\n      <td>0</td>\n      <td>0</td>\n      <td>0</td>\n      <td>0</td>\n      <td>0</td>\n      <td>0</td>\n      <td>...</td>\n      <td>22182</td>\n      <td>22311</td>\n      <td>22399</td>\n      <td>22467</td>\n      <td>22579</td>\n      <td>22631</td>\n      <td>22717</td>\n      <td>22885</td>\n      <td>23010</td>\n      <td>23108</td>\n    </tr>\n  </tbody>\n</table>\n<p>5 rows × 447 columns</p>\n</div>"
     },
     "metadata": {},
     "execution_count": 52
    }
   ],
   "source": [
    "df_confd = pd.read_csv(confd)\n",
    "df_confd.head()"
   ]
  },
  {
   "cell_type": "code",
   "execution_count": 53,
   "metadata": {},
   "outputs": [
    {
     "output_type": "execute_result",
     "data": {
      "text/plain": [
       "  Province/State Country/Region       Lat       Long  1/22/20  1/23/20  \\\n",
       "0            NaN    Afghanistan  33.93911  67.709953        0        0   \n",
       "1            NaN        Albania  41.15330  20.168300        0        0   \n",
       "2            NaN        Algeria  28.03390   1.659600        0        0   \n",
       "3            NaN        Andorra  42.50630   1.521800        0        0   \n",
       "4            NaN         Angola -11.20270  17.873900        0        0   \n",
       "\n",
       "   1/24/20  1/25/20  1/26/20  1/27/20  ...  3/30/21  3/31/21  4/1/21  4/2/21  \\\n",
       "0        0        0        0        0  ...    51473    51550   51788   51798   \n",
       "1        0        0        0        0  ...    90617    91271   91875   92500   \n",
       "2        0        0        0        0  ...    81442    81538   81632   81729   \n",
       "3        0        0        0        0  ...    11276    11315   11365   11401   \n",
       "4        0        0        0        0  ...    20446    20493   20508   20867   \n",
       "\n",
       "   4/3/21  4/4/21  4/5/21  4/6/21  4/7/21  4/8/21  \n",
       "0   51802   51885   51902   51928   51940   51956  \n",
       "1   93173   93842   94431   95035   95600   96129  \n",
       "2   81813   81896   81994   82096   82192   82289  \n",
       "3   11428   11474   11523   11570   11616   11692  \n",
       "4   20871   20879   21452   21489   21545   21557  \n",
       "\n",
       "[5 rows x 447 columns]"
      ],
      "text/html": "<div>\n<style scoped>\n    .dataframe tbody tr th:only-of-type {\n        vertical-align: middle;\n    }\n\n    .dataframe tbody tr th {\n        vertical-align: top;\n    }\n\n    .dataframe thead th {\n        text-align: right;\n    }\n</style>\n<table border=\"1\" class=\"dataframe\">\n  <thead>\n    <tr style=\"text-align: right;\">\n      <th></th>\n      <th>Province/State</th>\n      <th>Country/Region</th>\n      <th>Lat</th>\n      <th>Long</th>\n      <th>1/22/20</th>\n      <th>1/23/20</th>\n      <th>1/24/20</th>\n      <th>1/25/20</th>\n      <th>1/26/20</th>\n      <th>1/27/20</th>\n      <th>...</th>\n      <th>3/30/21</th>\n      <th>3/31/21</th>\n      <th>4/1/21</th>\n      <th>4/2/21</th>\n      <th>4/3/21</th>\n      <th>4/4/21</th>\n      <th>4/5/21</th>\n      <th>4/6/21</th>\n      <th>4/7/21</th>\n      <th>4/8/21</th>\n    </tr>\n  </thead>\n  <tbody>\n    <tr>\n      <th>0</th>\n      <td>NaN</td>\n      <td>Afghanistan</td>\n      <td>33.93911</td>\n      <td>67.709953</td>\n      <td>0</td>\n      <td>0</td>\n      <td>0</td>\n      <td>0</td>\n      <td>0</td>\n      <td>0</td>\n      <td>...</td>\n      <td>51473</td>\n      <td>51550</td>\n      <td>51788</td>\n      <td>51798</td>\n      <td>51802</td>\n      <td>51885</td>\n      <td>51902</td>\n      <td>51928</td>\n      <td>51940</td>\n      <td>51956</td>\n    </tr>\n    <tr>\n      <th>1</th>\n      <td>NaN</td>\n      <td>Albania</td>\n      <td>41.15330</td>\n      <td>20.168300</td>\n      <td>0</td>\n      <td>0</td>\n      <td>0</td>\n      <td>0</td>\n      <td>0</td>\n      <td>0</td>\n      <td>...</td>\n      <td>90617</td>\n      <td>91271</td>\n      <td>91875</td>\n      <td>92500</td>\n      <td>93173</td>\n      <td>93842</td>\n      <td>94431</td>\n      <td>95035</td>\n      <td>95600</td>\n      <td>96129</td>\n    </tr>\n    <tr>\n      <th>2</th>\n      <td>NaN</td>\n      <td>Algeria</td>\n      <td>28.03390</td>\n      <td>1.659600</td>\n      <td>0</td>\n      <td>0</td>\n      <td>0</td>\n      <td>0</td>\n      <td>0</td>\n      <td>0</td>\n      <td>...</td>\n      <td>81442</td>\n      <td>81538</td>\n      <td>81632</td>\n      <td>81729</td>\n      <td>81813</td>\n      <td>81896</td>\n      <td>81994</td>\n      <td>82096</td>\n      <td>82192</td>\n      <td>82289</td>\n    </tr>\n    <tr>\n      <th>3</th>\n      <td>NaN</td>\n      <td>Andorra</td>\n      <td>42.50630</td>\n      <td>1.521800</td>\n      <td>0</td>\n      <td>0</td>\n      <td>0</td>\n      <td>0</td>\n      <td>0</td>\n      <td>0</td>\n      <td>...</td>\n      <td>11276</td>\n      <td>11315</td>\n      <td>11365</td>\n      <td>11401</td>\n      <td>11428</td>\n      <td>11474</td>\n      <td>11523</td>\n      <td>11570</td>\n      <td>11616</td>\n      <td>11692</td>\n    </tr>\n    <tr>\n      <th>4</th>\n      <td>NaN</td>\n      <td>Angola</td>\n      <td>-11.20270</td>\n      <td>17.873900</td>\n      <td>0</td>\n      <td>0</td>\n      <td>0</td>\n      <td>0</td>\n      <td>0</td>\n      <td>0</td>\n      <td>...</td>\n      <td>20446</td>\n      <td>20493</td>\n      <td>20508</td>\n      <td>20867</td>\n      <td>20871</td>\n      <td>20879</td>\n      <td>21452</td>\n      <td>21489</td>\n      <td>21545</td>\n      <td>21557</td>\n    </tr>\n  </tbody>\n</table>\n<p>5 rows × 447 columns</p>\n</div>"
     },
     "metadata": {},
     "execution_count": 53
    }
   ],
   "source": [
    "df_recov = pd.read_csv(recov)\n",
    "df_recov.head()"
   ]
  },
  {
   "cell_type": "code",
   "execution_count": 54,
   "metadata": {},
   "outputs": [
    {
     "output_type": "execute_result",
     "data": {
      "text/plain": [
       "  Province/State Country/Region       Lat       Long  1/22/20  1/23/20  \\\n",
       "0            NaN    Afghanistan  33.93911  67.709953        0        0   \n",
       "1            NaN        Albania  41.15330  20.168300        0        0   \n",
       "2            NaN        Algeria  28.03390   1.659600        0        0   \n",
       "3            NaN        Andorra  42.50630   1.521800        0        0   \n",
       "4            NaN         Angola -11.20270  17.873900        0        0   \n",
       "\n",
       "   1/24/20  1/25/20  1/26/20  1/27/20  ...  3/30/21  3/31/21  4/1/21  4/2/21  \\\n",
       "0        0        0        0        0  ...    51473    51550   51788   51798   \n",
       "1        0        0        0        0  ...    90617    91271   91875   92500   \n",
       "2        0        0        0        0  ...    81442    81538   81632   81729   \n",
       "3        0        0        0        0  ...    11276    11315   11365   11401   \n",
       "4        0        0        0        0  ...    20446    20493   20508   20867   \n",
       "\n",
       "   4/3/21  4/4/21  4/5/21  4/6/21  4/7/21  4/8/21  \n",
       "0   51802   51885   51902   51928   51940   51956  \n",
       "1   93173   93842   94431   95035   95600   96129  \n",
       "2   81813   81896   81994   82096   82192   82289  \n",
       "3   11428   11474   11523   11570   11616   11692  \n",
       "4   20871   20879   21452   21489   21545   21557  \n",
       "\n",
       "[5 rows x 447 columns]"
      ],
      "text/html": "<div>\n<style scoped>\n    .dataframe tbody tr th:only-of-type {\n        vertical-align: middle;\n    }\n\n    .dataframe tbody tr th {\n        vertical-align: top;\n    }\n\n    .dataframe thead th {\n        text-align: right;\n    }\n</style>\n<table border=\"1\" class=\"dataframe\">\n  <thead>\n    <tr style=\"text-align: right;\">\n      <th></th>\n      <th>Province/State</th>\n      <th>Country/Region</th>\n      <th>Lat</th>\n      <th>Long</th>\n      <th>1/22/20</th>\n      <th>1/23/20</th>\n      <th>1/24/20</th>\n      <th>1/25/20</th>\n      <th>1/26/20</th>\n      <th>1/27/20</th>\n      <th>...</th>\n      <th>3/30/21</th>\n      <th>3/31/21</th>\n      <th>4/1/21</th>\n      <th>4/2/21</th>\n      <th>4/3/21</th>\n      <th>4/4/21</th>\n      <th>4/5/21</th>\n      <th>4/6/21</th>\n      <th>4/7/21</th>\n      <th>4/8/21</th>\n    </tr>\n  </thead>\n  <tbody>\n    <tr>\n      <th>0</th>\n      <td>NaN</td>\n      <td>Afghanistan</td>\n      <td>33.93911</td>\n      <td>67.709953</td>\n      <td>0</td>\n      <td>0</td>\n      <td>0</td>\n      <td>0</td>\n      <td>0</td>\n      <td>0</td>\n      <td>...</td>\n      <td>51473</td>\n      <td>51550</td>\n      <td>51788</td>\n      <td>51798</td>\n      <td>51802</td>\n      <td>51885</td>\n      <td>51902</td>\n      <td>51928</td>\n      <td>51940</td>\n      <td>51956</td>\n    </tr>\n    <tr>\n      <th>1</th>\n      <td>NaN</td>\n      <td>Albania</td>\n      <td>41.15330</td>\n      <td>20.168300</td>\n      <td>0</td>\n      <td>0</td>\n      <td>0</td>\n      <td>0</td>\n      <td>0</td>\n      <td>0</td>\n      <td>...</td>\n      <td>90617</td>\n      <td>91271</td>\n      <td>91875</td>\n      <td>92500</td>\n      <td>93173</td>\n      <td>93842</td>\n      <td>94431</td>\n      <td>95035</td>\n      <td>95600</td>\n      <td>96129</td>\n    </tr>\n    <tr>\n      <th>2</th>\n      <td>NaN</td>\n      <td>Algeria</td>\n      <td>28.03390</td>\n      <td>1.659600</td>\n      <td>0</td>\n      <td>0</td>\n      <td>0</td>\n      <td>0</td>\n      <td>0</td>\n      <td>0</td>\n      <td>...</td>\n      <td>81442</td>\n      <td>81538</td>\n      <td>81632</td>\n      <td>81729</td>\n      <td>81813</td>\n      <td>81896</td>\n      <td>81994</td>\n      <td>82096</td>\n      <td>82192</td>\n      <td>82289</td>\n    </tr>\n    <tr>\n      <th>3</th>\n      <td>NaN</td>\n      <td>Andorra</td>\n      <td>42.50630</td>\n      <td>1.521800</td>\n      <td>0</td>\n      <td>0</td>\n      <td>0</td>\n      <td>0</td>\n      <td>0</td>\n      <td>0</td>\n      <td>...</td>\n      <td>11276</td>\n      <td>11315</td>\n      <td>11365</td>\n      <td>11401</td>\n      <td>11428</td>\n      <td>11474</td>\n      <td>11523</td>\n      <td>11570</td>\n      <td>11616</td>\n      <td>11692</td>\n    </tr>\n    <tr>\n      <th>4</th>\n      <td>NaN</td>\n      <td>Angola</td>\n      <td>-11.20270</td>\n      <td>17.873900</td>\n      <td>0</td>\n      <td>0</td>\n      <td>0</td>\n      <td>0</td>\n      <td>0</td>\n      <td>0</td>\n      <td>...</td>\n      <td>20446</td>\n      <td>20493</td>\n      <td>20508</td>\n      <td>20867</td>\n      <td>20871</td>\n      <td>20879</td>\n      <td>21452</td>\n      <td>21489</td>\n      <td>21545</td>\n      <td>21557</td>\n    </tr>\n  </tbody>\n</table>\n<p>5 rows × 447 columns</p>\n</div>"
     },
     "metadata": {},
     "execution_count": 54
    }
   ],
   "source": [
    "df_death = pd.read_csv(death)\n",
    "df_death.head()"
   ]
  },
  {
   "source": [
    "### C - External Data \n",
    "* Save the external data to a DataFrame\n",
    "* External Data includes but not limited to: `covid_external.csv`, `Budget data.csv`, `RealGDP.csv`"
   ],
   "cell_type": "markdown",
   "metadata": {}
  },
  {
   "cell_type": "code",
   "execution_count": 55,
   "metadata": {},
   "outputs": [
    {
     "output_type": "execute_result",
     "data": {
      "text/plain": [
       "      states  Initial_budget (Bn)  Revised_budget (Bn)\n",
       "0       Abia               136.60               102.70\n",
       "1    Adamawa               183.30               139.31\n",
       "2  Akwa-Ibom               597.73               366.00\n",
       "3    Anambra               137.10               112.80\n",
       "4     Bauchi               167.20               128.00"
      ],
      "text/html": "<div>\n<style scoped>\n    .dataframe tbody tr th:only-of-type {\n        vertical-align: middle;\n    }\n\n    .dataframe tbody tr th {\n        vertical-align: top;\n    }\n\n    .dataframe thead th {\n        text-align: right;\n    }\n</style>\n<table border=\"1\" class=\"dataframe\">\n  <thead>\n    <tr style=\"text-align: right;\">\n      <th></th>\n      <th>states</th>\n      <th>Initial_budget (Bn)</th>\n      <th>Revised_budget (Bn)</th>\n    </tr>\n  </thead>\n  <tbody>\n    <tr>\n      <th>0</th>\n      <td>Abia</td>\n      <td>136.60</td>\n      <td>102.70</td>\n    </tr>\n    <tr>\n      <th>1</th>\n      <td>Adamawa</td>\n      <td>183.30</td>\n      <td>139.31</td>\n    </tr>\n    <tr>\n      <th>2</th>\n      <td>Akwa-Ibom</td>\n      <td>597.73</td>\n      <td>366.00</td>\n    </tr>\n    <tr>\n      <th>3</th>\n      <td>Anambra</td>\n      <td>137.10</td>\n      <td>112.80</td>\n    </tr>\n    <tr>\n      <th>4</th>\n      <td>Bauchi</td>\n      <td>167.20</td>\n      <td>128.00</td>\n    </tr>\n  </tbody>\n</table>\n</div>"
     },
     "metadata": {},
     "execution_count": 55
    }
   ],
   "source": [
    "df_budget = pd.read_csv(\"Budget data.csv\")\n",
    "df_budget.head()"
   ]
  },
  {
   "cell_type": "code",
   "execution_count": 56,
   "metadata": {},
   "outputs": [
    {
     "output_type": "execute_result",
     "data": {
      "text/plain": [
       "      states         region  Population  Overall CCVI Index  Age  \\\n",
       "0        FCT  North Central     4865000                 0.3  0.0   \n",
       "1    Plateau  North Central     4766000                 0.4  0.5   \n",
       "2      Kwara  North Central     3524000                 0.3  0.4   \n",
       "3  Nassarawa  North Central     2783000                 0.1  0.3   \n",
       "4      Niger  North Central     6260000                 0.6  0.0   \n",
       "\n",
       "   Epidemiological  Fragility  Health System  Population Density  \\\n",
       "0              0.9        0.4            0.6                 0.9   \n",
       "1              0.4        0.8            0.3                 0.3   \n",
       "2              0.3        0.2            0.4                 0.2   \n",
       "3              0.5        0.9            0.0                 0.1   \n",
       "4              0.6        0.3            0.7                 0.1   \n",
       "\n",
       "   Socio-Economic   Transport Availability  Acute IHR  \n",
       "0             0.6                      0.2       0.79  \n",
       "1             0.5                      0.3       0.93  \n",
       "2             0.6                      0.7       0.93  \n",
       "3             0.6                      0.5       0.85  \n",
       "4             0.8                      0.8       0.84  "
      ],
      "text/html": "<div>\n<style scoped>\n    .dataframe tbody tr th:only-of-type {\n        vertical-align: middle;\n    }\n\n    .dataframe tbody tr th {\n        vertical-align: top;\n    }\n\n    .dataframe thead th {\n        text-align: right;\n    }\n</style>\n<table border=\"1\" class=\"dataframe\">\n  <thead>\n    <tr style=\"text-align: right;\">\n      <th></th>\n      <th>states</th>\n      <th>region</th>\n      <th>Population</th>\n      <th>Overall CCVI Index</th>\n      <th>Age</th>\n      <th>Epidemiological</th>\n      <th>Fragility</th>\n      <th>Health System</th>\n      <th>Population Density</th>\n      <th>Socio-Economic</th>\n      <th>Transport Availability</th>\n      <th>Acute IHR</th>\n    </tr>\n  </thead>\n  <tbody>\n    <tr>\n      <th>0</th>\n      <td>FCT</td>\n      <td>North Central</td>\n      <td>4865000</td>\n      <td>0.3</td>\n      <td>0.0</td>\n      <td>0.9</td>\n      <td>0.4</td>\n      <td>0.6</td>\n      <td>0.9</td>\n      <td>0.6</td>\n      <td>0.2</td>\n      <td>0.79</td>\n    </tr>\n    <tr>\n      <th>1</th>\n      <td>Plateau</td>\n      <td>North Central</td>\n      <td>4766000</td>\n      <td>0.4</td>\n      <td>0.5</td>\n      <td>0.4</td>\n      <td>0.8</td>\n      <td>0.3</td>\n      <td>0.3</td>\n      <td>0.5</td>\n      <td>0.3</td>\n      <td>0.93</td>\n    </tr>\n    <tr>\n      <th>2</th>\n      <td>Kwara</td>\n      <td>North Central</td>\n      <td>3524000</td>\n      <td>0.3</td>\n      <td>0.4</td>\n      <td>0.3</td>\n      <td>0.2</td>\n      <td>0.4</td>\n      <td>0.2</td>\n      <td>0.6</td>\n      <td>0.7</td>\n      <td>0.93</td>\n    </tr>\n    <tr>\n      <th>3</th>\n      <td>Nassarawa</td>\n      <td>North Central</td>\n      <td>2783000</td>\n      <td>0.1</td>\n      <td>0.3</td>\n      <td>0.5</td>\n      <td>0.9</td>\n      <td>0.0</td>\n      <td>0.1</td>\n      <td>0.6</td>\n      <td>0.5</td>\n      <td>0.85</td>\n    </tr>\n    <tr>\n      <th>4</th>\n      <td>Niger</td>\n      <td>North Central</td>\n      <td>6260000</td>\n      <td>0.6</td>\n      <td>0.0</td>\n      <td>0.6</td>\n      <td>0.3</td>\n      <td>0.7</td>\n      <td>0.1</td>\n      <td>0.8</td>\n      <td>0.8</td>\n      <td>0.84</td>\n    </tr>\n  </tbody>\n</table>\n</div>"
     },
     "metadata": {},
     "execution_count": 56
    }
   ],
   "source": [
    "df_external = pd.read_csv('covid_external.csv')\n",
    "df_external.head()"
   ]
  },
  {
   "cell_type": "code",
   "execution_count": 57,
   "metadata": {},
   "outputs": [
    {
     "output_type": "execute_result",
     "data": {
      "text/plain": [
       "   Year           Q1           Q2           Q3           Q4\n",
       "0  2014  15438679.50  16084622.31  17479127.58  18150356.45\n",
       "1  2015  16050601.38  16463341.91  17976234.59  18533752.07\n",
       "2  2016  15943714.54  16218542.41  17555441.69  18213537.29\n",
       "3  2017  15797965.83  16334719.27  17760228.17  18598067.07\n",
       "4  2018  16096654.19  16580508.07  18081342.10  19041437.59"
      ],
      "text/html": "<div>\n<style scoped>\n    .dataframe tbody tr th:only-of-type {\n        vertical-align: middle;\n    }\n\n    .dataframe tbody tr th {\n        vertical-align: top;\n    }\n\n    .dataframe thead th {\n        text-align: right;\n    }\n</style>\n<table border=\"1\" class=\"dataframe\">\n  <thead>\n    <tr style=\"text-align: right;\">\n      <th></th>\n      <th>Year</th>\n      <th>Q1</th>\n      <th>Q2</th>\n      <th>Q3</th>\n      <th>Q4</th>\n    </tr>\n  </thead>\n  <tbody>\n    <tr>\n      <th>0</th>\n      <td>2014</td>\n      <td>15438679.50</td>\n      <td>16084622.31</td>\n      <td>17479127.58</td>\n      <td>18150356.45</td>\n    </tr>\n    <tr>\n      <th>1</th>\n      <td>2015</td>\n      <td>16050601.38</td>\n      <td>16463341.91</td>\n      <td>17976234.59</td>\n      <td>18533752.07</td>\n    </tr>\n    <tr>\n      <th>2</th>\n      <td>2016</td>\n      <td>15943714.54</td>\n      <td>16218542.41</td>\n      <td>17555441.69</td>\n      <td>18213537.29</td>\n    </tr>\n    <tr>\n      <th>3</th>\n      <td>2017</td>\n      <td>15797965.83</td>\n      <td>16334719.27</td>\n      <td>17760228.17</td>\n      <td>18598067.07</td>\n    </tr>\n    <tr>\n      <th>4</th>\n      <td>2018</td>\n      <td>16096654.19</td>\n      <td>16580508.07</td>\n      <td>18081342.10</td>\n      <td>19041437.59</td>\n    </tr>\n  </tbody>\n</table>\n</div>"
     },
     "metadata": {},
     "execution_count": 57
    }
   ],
   "source": [
    "df_gdp = pd.read_csv('RealGDP.csv')\n",
    "df_gdp.head()"
   ]
  },
  {
   "source": [
    "### Task 2 - View the data\n",
    "Obtain basic information about the data using the `head()` and `info()` method."
   ],
   "cell_type": "markdown",
   "metadata": {}
  },
  {
   "cell_type": "code",
   "execution_count": 58,
   "metadata": {},
   "outputs": [
    {
     "output_type": "stream",
     "name": "stdout",
     "text": [
      "<class 'pandas.core.frame.DataFrame'>\nRangeIndex: 274 entries, 0 to 273\nColumns: 447 entries, Province/State to 4/8/21\ndtypes: float64(2), int64(443), object(2)\nmemory usage: 957.0+ KB\n"
     ]
    }
   ],
   "source": [
    "df_confd.info()\n"
   ]
  },
  {
   "cell_type": "code",
   "execution_count": 59,
   "metadata": {},
   "outputs": [
    {
     "output_type": "stream",
     "name": "stdout",
     "text": [
      "<class 'pandas.core.frame.DataFrame'>\nRangeIndex: 259 entries, 0 to 258\nColumns: 447 entries, Province/State to 4/8/21\ndtypes: float64(2), int64(443), object(2)\nmemory usage: 904.6+ KB\n"
     ]
    }
   ],
   "source": [
    "df_recov.info()"
   ]
  },
  {
   "cell_type": "code",
   "execution_count": 60,
   "metadata": {},
   "outputs": [
    {
     "output_type": "stream",
     "name": "stdout",
     "text": [
      "<class 'pandas.core.frame.DataFrame'>\nRangeIndex: 259 entries, 0 to 258\nColumns: 447 entries, Province/State to 4/8/21\ndtypes: float64(2), int64(443), object(2)\nmemory usage: 904.6+ KB\n"
     ]
    }
   ],
   "source": [
    "df_death.info()"
   ]
  },
  {
   "cell_type": "code",
   "execution_count": 61,
   "metadata": {},
   "outputs": [
    {
     "output_type": "stream",
     "name": "stdout",
     "text": [
      "<class 'pandas.core.frame.DataFrame'>\nRangeIndex: 37 entries, 0 to 36\nData columns (total 12 columns):\n #   Column                   Non-Null Count  Dtype  \n---  ------                   --------------  -----  \n 0   states                   37 non-null     object \n 1   region                   37 non-null     object \n 2   Population               37 non-null     int64  \n 3   Overall CCVI Index       37 non-null     float64\n 4   Age                      37 non-null     float64\n 5   Epidemiological          37 non-null     float64\n 6   Fragility                37 non-null     float64\n 7   Health System            37 non-null     float64\n 8   Population Density       37 non-null     float64\n 9   Socio-Economic           37 non-null     float64\n 10   Transport Availability  37 non-null     float64\n 11  Acute IHR                37 non-null     float64\ndtypes: float64(9), int64(1), object(2)\nmemory usage: 3.6+ KB\n"
     ]
    }
   ],
   "source": [
    "df_external.info()"
   ]
  },
  {
   "cell_type": "code",
   "execution_count": 62,
   "metadata": {},
   "outputs": [
    {
     "output_type": "stream",
     "name": "stdout",
     "text": [
      "<class 'pandas.core.frame.DataFrame'>\nRangeIndex: 7 entries, 0 to 6\nData columns (total 5 columns):\n #   Column  Non-Null Count  Dtype  \n---  ------  --------------  -----  \n 0   Year    7 non-null      int64  \n 1   Q1      7 non-null      float64\n 2   Q2      7 non-null      float64\n 3   Q3      7 non-null      float64\n 4   Q4      7 non-null      float64\ndtypes: float64(4), int64(1)\nmemory usage: 408.0 bytes\n"
     ]
    }
   ],
   "source": [
    "df_gdp.info()"
   ]
  },
  {
   "cell_type": "code",
   "execution_count": 63,
   "metadata": {},
   "outputs": [
    {
     "output_type": "stream",
     "name": "stdout",
     "text": [
      "<class 'pandas.core.frame.DataFrame'>\nRangeIndex: 37 entries, 0 to 36\nData columns (total 3 columns):\n #   Column               Non-Null Count  Dtype  \n---  ------               --------------  -----  \n 0   states               37 non-null     object \n 1   Initial_budget (Bn)  37 non-null     float64\n 2   Revised_budget (Bn)  37 non-null     float64\ndtypes: float64(2), object(1)\nmemory usage: 1016.0+ bytes\n"
     ]
    }
   ],
   "source": [
    "df_budget.info()"
   ]
  },
  {
   "cell_type": "code",
   "execution_count": 64,
   "metadata": {},
   "outputs": [
    {
     "output_type": "stream",
     "name": "stdout",
     "text": [
      "<class 'pandas.core.frame.DataFrame'>\nInt64Index: 37 entries, 0 to 36\nData columns (total 5 columns):\n #   Column                        Non-Null Count  Dtype \n---  ------                        --------------  ----- \n 0   States Affected               37 non-null     object\n 1   No. of Cases (Lab Confirmed)  37 non-null     object\n 2   No. of Cases (on admission)   37 non-null     object\n 3   No. Discharged                37 non-null     object\n 4   No. of Deaths                 37 non-null     object\ndtypes: object(5)\nmemory usage: 1.7+ KB\n"
     ]
    }
   ],
   "source": [
    "df_ncdc.info()"
   ]
  },
  {
   "source": [
    "### Task 3 - Data Cleaning and Preparation\n",
    "From the information obtained above, you will need to fix the data format. \n",
    "<br>\n",
    "Examples: \n",
    "* Convert to appropriate data type.\n",
    "* Rename the columns of the scraped data.\n",
    "* Remove comma(,) in numerical data\n",
    "* Extract daily data for Nigeria from the Global daily cases data"
   ],
   "cell_type": "markdown",
   "metadata": {}
  },
  {
   "cell_type": "code",
   "execution_count": null,
   "metadata": {},
   "outputs": [],
   "source": []
  },
  {
   "source": [
    "TODO A - Clean the scraped data"
   ],
   "cell_type": "markdown",
   "metadata": {}
  },
  {
   "cell_type": "code",
   "execution_count": 65,
   "metadata": {},
   "outputs": [],
   "source": [
    "#[Write Your Code Here]\n"
   ]
  },
  {
   "cell_type": "code",
   "execution_count": 20,
   "metadata": {},
   "outputs": [],
   "source": []
  },
  {
   "source": [
    "TODO B - Get a Pandas DataFrame for Daily Confirmed Cases in Nigeria. Columns are Date and Cases"
   ],
   "cell_type": "markdown",
   "metadata": {}
  },
  {
   "source": [
    "TODO C - Get a Pandas DataFrame for Daily Recovered Cases in Nigeria. Columns are Date and Cases"
   ],
   "cell_type": "markdown",
   "metadata": {}
  },
  {
   "source": [
    "TODO D - Get a Pandas DataFrame for Daily Death Cases in Nigeria. Columns are Date and Cases"
   ],
   "cell_type": "markdown",
   "metadata": {}
  },
  {
   "source": [
    "### Task 4 - Analysis\n",
    "Here you will perform some analyses on the datasets. You are welcome to communicate findings in charts and summary. \n",
    "<br>\n",
    "We have included a few TODOs to help with your analysis. However, do not let this limit your approach, feel free to include more, and be sure to support your findings with chart and summary "
   ],
   "cell_type": "markdown",
   "metadata": {}
  },
  {
   "source": [
    "TODO A - Generate a plot that shows the Top 10 states in terms of Confirmed Covid cases by Laboratory test"
   ],
   "cell_type": "markdown",
   "metadata": {}
  },
  {
   "source": [
    "TODO B - Generate a plot that shows the Top 10 states in terms of Discharged Covid cases. Hint - Sort the values"
   ],
   "cell_type": "markdown",
   "metadata": {}
  },
  {
   "source": [
    "TODO D - Plot the top 10 Death cases"
   ],
   "cell_type": "markdown",
   "metadata": {}
  },
  {
   "source": [
    "TODO E - Generate a line plot for the total daily confirmed, recovered and death cases in Nigeria"
   ],
   "cell_type": "markdown",
   "metadata": {}
  },
  {
   "source": [
    "TODO F - \n",
    "* Determine the daily infection rate, you can use the Pandas `diff` method to find the derivate of the total cases.\n",
    "* Generate a line plot for the above"
   ],
   "cell_type": "markdown",
   "metadata": {}
  },
  {
   "source": [
    "TODO G - \n",
    "* Calculate maximum infection rate for a day (Number of new cases)\n",
    "* Find the date"
   ],
   "cell_type": "markdown",
   "metadata": {}
  },
  {
   "source": [
    "TODO H - Determine the relationship between the external dataset and the NCDC COVID-19 dataset. \n",
    "Here you will generate a line plot of top 10 confirmed cases and the overall community vulnerability index on the same axis. From the graph, explain your observation.\n",
    "<br>\n",
    "Steps\n",
    "* Combine the two dataset together on a common column(states)\n",
    "* Create a new dataframe for plotting. This DataFrame will contain top 10 states in terms of confirmed cases i.e sort by confirmed cases. ** Hint: Check out Pandas [nlargest](https://pandas.pydata.org/pandas-docs/stable/reference/api/pandas.DataFrame.nlargest.html) function. This [tutorial](https://cmdlinetips.com/2019/03/how-to-select-top-n-rows-with-the-largest-values-in-a-columns-in-pandas/) can help out ** \n",
    "* Plot both variable on the same axis. Check out this [tutorial](http://kitchingroup.cheme.cmu.edu/blog/2013/09/13/Plotting-two-datasets-with-very-different-scales/)"
   ],
   "cell_type": "markdown",
   "metadata": {}
  },
  {
   "source": [
    "TODO I - Determine the relationship between the external dataset and the NCDC COVID-19 dataset. \n",
    "* Here you will generate a regression plot between two variables to visualize the linear relationships - Confirmed Cases and Population Density.\n",
    "Hint: Check out Seaborn [Regression Plot](https://seaborn.pydata.org/generated/seaborn.regplot.html).\n",
    "* Provide a summary of your observation"
   ],
   "cell_type": "markdown",
   "metadata": {}
  },
  {
   "source": [
    "TODO J - \n",
    "* Provide more analyses by extending TODO G & H. Meaning, determine relationships between more features.\n",
    "* Provide a detailed summary of your findings. \n",
    "* Note that you can have as many as possible."
   ],
   "cell_type": "markdown",
   "metadata": {}
  },
  {
   "source": [
    "### TODO L - \n",
    "Determine the effect of the Pandemic on the economy. To do this, you will compare the Real GDP value Pre-COVID-19 with Real GDP in 2020 (COVID-19 Period, especially Q2 2020)\n",
    "<br>\n",
    "Steps\n",
    "* From the Real GDP Data, generate a `barplot` using the GDP values for each year & quarters. For example: On x-axis you will have year 2017 and the bars will be values of each quarters(Q1-Q4). You expected to have subplots of each quarters on one graph.\n",
    "<br>\n",
    "Hint: Use [Pandas.melt](https://pandas.pydata.org/docs/reference/api/pandas.melt.html) to create your plot DataFrame \n",
    "* Set your quarter legend to lower left.\n",
    "* Using `axhline`, draw a horizontal line through the graph at the value of Q2 2020.\n",
    "* Write out your observation"
   ],
   "cell_type": "markdown",
   "metadata": {}
  },
  {
   "source": [],
   "cell_type": "markdown",
   "metadata": {}
  },
  {
   "source": [
    "### Note: Do not limit your analysis to the provided TODOs. Perform more analyses e.g \n",
    "* Check for more external dataset\n",
    "* Ask more questions & find the right answers by exploring the data"
   ],
   "cell_type": "markdown",
   "metadata": {}
  },
  {
   "source": [],
   "cell_type": "markdown",
   "metadata": {}
  }
 ]
}